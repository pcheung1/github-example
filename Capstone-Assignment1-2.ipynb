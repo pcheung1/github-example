{
 "cells": [
  {
   "cell_type": "markdown",
   "metadata": {},
   "source": [
    "# Capstone Project \n",
    "## Assignment 1 Part 1 \n",
    "A Jupyter Note of the code to scrape the following Wikipedia page, https://en.wikipedia.org/wiki/List_of_postal_codes_of_Canada:_M"
   ]
  },
  {
   "cell_type": "code",
   "execution_count": 25,
   "metadata": {},
   "outputs": [
    {
     "name": "stdout",
     "output_type": "stream",
     "text": [
      "Libraries imported.\n"
     ]
    }
   ],
   "source": [
    "import numpy as np # library to handle data in a vectorized manner\n",
    "\n",
    "import pandas as pd # library for data analsysis\n",
    "pd.set_option('display.max_columns', None)\n",
    "pd.set_option('display.max_rows', None)\n",
    "\n",
    "import requests # library to handle requests\n",
    "\n",
    "from bs4 import BeautifulSoup # xml parser library\n",
    "\n",
    "print('Libraries imported.')"
   ]
  },
  {
   "cell_type": "markdown",
   "metadata": {},
   "source": [
    "Get the Wikipedia page and create a BeautifulSoup object in order to parse and find the relevant information"
   ]
  },
  {
   "cell_type": "code",
   "execution_count": 26,
   "metadata": {},
   "outputs": [],
   "source": [
    "wiki_page = requests.get(\"https://en.wikipedia.org/wiki/List_of_postal_codes_of_Canada:_M\").text\n",
    "soup = BeautifulSoup(wiki_page, 'lxml') # BeautifulSoup object\n",
    "\n",
    "# print(soup) reveals the first table is the postcode table \n",
    "table = soup.find('table') \n"
   ]
  },
  {
   "cell_type": "markdown",
   "metadata": {},
   "source": [
    "Build a list with all the row except cells with a borough that is Not assigned "
   ]
  },
  {
   "cell_type": "code",
   "execution_count": 27,
   "metadata": {},
   "outputs": [],
   "source": [
    "df_list = []\n",
    "for row in table.find_all('tr')[1:]:  # skip the first row, which contains column headings\n",
    "    row_list = []\n",
    "    for item in row.find_all('td'):\n",
    "        row_list.append(item.text.replace('\\n',''))\n",
    "    if row_list[1] != 'Not assigned': # Ignore cells with a borough that is Not assigned \n",
    "        df_list.append(row_list)\n"
   ]
  },
  {
   "cell_type": "markdown",
   "metadata": {},
   "source": [
    "Group multiple neighborhoods with the same postcode"
   ]
  },
  {
   "cell_type": "code",
   "execution_count": 28,
   "metadata": {},
   "outputs": [],
   "source": [
    "from itertools import groupby\n",
    "\n",
    "df_list_unique = []\n",
    "for key, group in groupby(df_list, lambda x: [x[0],x[1]]):\n",
    "    neighs = ''\n",
    "    for item in group: \n",
    "        neighs = neighs + item[2] + ', ' # grouping multiple items\n",
    "    key.append(neighs[:-2])\n",
    "    df_list_unique.append(key)\n"
   ]
  },
  {
   "cell_type": "markdown",
   "metadata": {},
   "source": [
    "Now, build the pandas dataframe"
   ]
  },
  {
   "cell_type": "code",
   "execution_count": 29,
   "metadata": {},
   "outputs": [
    {
     "data": {
      "text/plain": [
       "(103, 3)"
      ]
     },
     "execution_count": 29,
     "metadata": {},
     "output_type": "execute_result"
    }
   ],
   "source": [
    "column_names = [\"PostalCode\",\"Borough\",\"Neighborhood\"]\n",
    "\n",
    "df = pd.DataFrame(df_list_unique, columns=column_names) # build the dataframe from the table\n",
    "df.shape # show the shape"
   ]
  },
  {
   "cell_type": "markdown",
   "metadata": {},
   "source": [
    "## Assignment 1 Part 2 \n",
    "Get the latitude and the longitude coordinates of each neighborhood/Postcode"
   ]
  },
  {
   "cell_type": "markdown",
   "metadata": {},
   "source": [
    "##### Download Geospatial_Coordinates.csv"
   ]
  },
  {
   "cell_type": "code",
   "execution_count": 32,
   "metadata": {},
   "outputs": [
    {
     "name": "stdout",
     "output_type": "stream",
     "text": [
      "--2019-02-25 01:04:05--  https://cocl.us/Geospatial_data\n",
      "Resolving cocl.us (cocl.us)... 169.48.113.201\n",
      "Connecting to cocl.us (cocl.us)|169.48.113.201|:443... connected.\n",
      "HTTP request sent, awaiting response... 301 Moved Permanently\n",
      "Location: https://ibm.box.com/shared/static/9afzr83pps4pwf2smjjcf1y5mvgb18rr.csv [following]\n",
      "--2019-02-25 01:04:06--  https://ibm.box.com/shared/static/9afzr83pps4pwf2smjjcf1y5mvgb18rr.csv\n",
      "Resolving ibm.box.com (ibm.box.com)... 107.152.27.197, 107.152.26.197\n",
      "Connecting to ibm.box.com (ibm.box.com)|107.152.27.197|:443... connected.\n",
      "HTTP request sent, awaiting response... 301 Moved Permanently\n",
      "Location: /public/static/9afzr83pps4pwf2smjjcf1y5mvgb18rr.csv [following]\n",
      "--2019-02-25 01:04:07--  https://ibm.box.com/public/static/9afzr83pps4pwf2smjjcf1y5mvgb18rr.csv\n",
      "Reusing existing connection to ibm.box.com:443.\n",
      "HTTP request sent, awaiting response... 301 Moved Permanently\n",
      "Location: https://ibm.ent.box.com/public/static/9afzr83pps4pwf2smjjcf1y5mvgb18rr.csv [following]\n",
      "--2019-02-25 01:04:07--  https://ibm.ent.box.com/public/static/9afzr83pps4pwf2smjjcf1y5mvgb18rr.csv\n",
      "Resolving ibm.ent.box.com (ibm.ent.box.com)... 107.152.27.211\n",
      "Connecting to ibm.ent.box.com (ibm.ent.box.com)|107.152.27.211|:443... connected.\n",
      "HTTP request sent, awaiting response... 302 Found\n",
      "Location: https://public.boxcloud.com/d/1/b1!j0IfLdi3L5Ecer_BIhH-KxYOxgS1hEkcVNch0adZ_s_PxSlWCNkudDZ-HkurQesOUKHhDrIoMF5P2R6wzl2kpNNlJ5mXQ0NfaNh3g0qWPJr5f3Bl0L8ik_ol6UlsSseAr33rkQK4jEIGJKfgP2CDRd-GF8B56gGA9p39B68Sq4rhaTCms2dE0UlrCKCxb2qIlNJv3VGh0JMG9xKN5xXMBxJImEMr8ZgPsmF-MgeHGkqCiUi6phahB_nGmn1vq8n8soT_1ZLGc2uFOeUFRVaj42LqqkNtk8bfGdG2ZM5umK86IDF4gZbLLh02w4QsKDf_CYBZrWIrOT1qqmFxJzg0gOZXdSDBLmTwXPPfbdpcQTkW9NFQWuN-Tw0uFcfqShTzRb4GcK8wriStFs3PB5Qam93QS8rAAEoXWfFBG1SQYB0EGJ780mLTKcX8uXBElOip5chsbAtK7HGAarLLs-1DJXmdpjpTq2LPuHv62QaPDoEunAA7E6T8KTG82ljFOHnrFgkRwszfiQXcF3Di14C93N4jeENy4F8zALsWmCdRSDeq4-uNGDn8738QOg6GEAF9gnph3_H0fzCFbirI2RUWgsNY92fYJzh7SQhnt7vwFBR8lxfOR52Y5dyO6Up_1u8FX7gwQxPMaAXt7Xa7ulZDC9yFTlsOYDs5akvGmDiCtintjVhwdci4cIXFxLrrH-8KNl59hzuNPtO1a-S7Er4vqL5I_9Uhr55cS5iZ0BuKICQOYTOOfMNT0BTaYKli-UkL9tsqFXuRiDdF4y0H0Yip5RvYNFDY9sR0YWjOA12mYVvdE3FZqfQ14Rplr-s7eEI8L4Lx7DI50NqFgDq_1-JY_4l-BstMXDTzroZBcTiWrPiB-HjAZ3DOaCDRSzM41PByk4sDdJkJSDjjf3c9d2dA3e8HAkp2WrKDJM8BXPjqnHUJMx4bDF0uxw4TMEKnLqQAiuzFL8WO98j2qQiaDP23Snz3pl1DiA1dCPv8vl3NTAdqDHQQXTyfczs0brvwkNn7l_dWPW3ZduOBq7b3vlvgpbt_V4erv6hJfWdNNO7OGJapy1ZYP0FuzY3KJQ8wAFkOwXMi0HTkFToQUT5hdzIqdjIz9ciaDaMKKtIVw0USYYHI-bhJxG0PymR8uM7iWgtT-rSI-S4m2VAQdykKBWFgYmhqHtZuV7FQ-coTk6CM-cLCJCQa8jkxYevDpNHQIKjzI7Qd9SkCDpkF3cjL_p2HFCuYSK3bVpYKMkiPaewA0I_vLnf6KOGfaasWu5hmlh9ajzWMuy517ukGKMPTKXq05FMTh9RM-DXvmcAkb6iIUCuLiyfHzEFFGExkxjZraqYkO43SKsUzzpGDyOiOMNw5QBOqNCbqKyQSVsRSiVIxn2kR/download [following]\n",
      "--2019-02-25 01:04:08--  https://public.boxcloud.com/d/1/b1!j0IfLdi3L5Ecer_BIhH-KxYOxgS1hEkcVNch0adZ_s_PxSlWCNkudDZ-HkurQesOUKHhDrIoMF5P2R6wzl2kpNNlJ5mXQ0NfaNh3g0qWPJr5f3Bl0L8ik_ol6UlsSseAr33rkQK4jEIGJKfgP2CDRd-GF8B56gGA9p39B68Sq4rhaTCms2dE0UlrCKCxb2qIlNJv3VGh0JMG9xKN5xXMBxJImEMr8ZgPsmF-MgeHGkqCiUi6phahB_nGmn1vq8n8soT_1ZLGc2uFOeUFRVaj42LqqkNtk8bfGdG2ZM5umK86IDF4gZbLLh02w4QsKDf_CYBZrWIrOT1qqmFxJzg0gOZXdSDBLmTwXPPfbdpcQTkW9NFQWuN-Tw0uFcfqShTzRb4GcK8wriStFs3PB5Qam93QS8rAAEoXWfFBG1SQYB0EGJ780mLTKcX8uXBElOip5chsbAtK7HGAarLLs-1DJXmdpjpTq2LPuHv62QaPDoEunAA7E6T8KTG82ljFOHnrFgkRwszfiQXcF3Di14C93N4jeENy4F8zALsWmCdRSDeq4-uNGDn8738QOg6GEAF9gnph3_H0fzCFbirI2RUWgsNY92fYJzh7SQhnt7vwFBR8lxfOR52Y5dyO6Up_1u8FX7gwQxPMaAXt7Xa7ulZDC9yFTlsOYDs5akvGmDiCtintjVhwdci4cIXFxLrrH-8KNl59hzuNPtO1a-S7Er4vqL5I_9Uhr55cS5iZ0BuKICQOYTOOfMNT0BTaYKli-UkL9tsqFXuRiDdF4y0H0Yip5RvYNFDY9sR0YWjOA12mYVvdE3FZqfQ14Rplr-s7eEI8L4Lx7DI50NqFgDq_1-JY_4l-BstMXDTzroZBcTiWrPiB-HjAZ3DOaCDRSzM41PByk4sDdJkJSDjjf3c9d2dA3e8HAkp2WrKDJM8BXPjqnHUJMx4bDF0uxw4TMEKnLqQAiuzFL8WO98j2qQiaDP23Snz3pl1DiA1dCPv8vl3NTAdqDHQQXTyfczs0brvwkNn7l_dWPW3ZduOBq7b3vlvgpbt_V4erv6hJfWdNNO7OGJapy1ZYP0FuzY3KJQ8wAFkOwXMi0HTkFToQUT5hdzIqdjIz9ciaDaMKKtIVw0USYYHI-bhJxG0PymR8uM7iWgtT-rSI-S4m2VAQdykKBWFgYmhqHtZuV7FQ-coTk6CM-cLCJCQa8jkxYevDpNHQIKjzI7Qd9SkCDpkF3cjL_p2HFCuYSK3bVpYKMkiPaewA0I_vLnf6KOGfaasWu5hmlh9ajzWMuy517ukGKMPTKXq05FMTh9RM-DXvmcAkb6iIUCuLiyfHzEFFGExkxjZraqYkO43SKsUzzpGDyOiOMNw5QBOqNCbqKyQSVsRSiVIxn2kR/download\n",
      "Resolving public.boxcloud.com (public.boxcloud.com)... 107.152.27.200\n",
      "Connecting to public.boxcloud.com (public.boxcloud.com)|107.152.27.200|:443... connected.\n",
      "HTTP request sent, awaiting response... 200 OK\n",
      "Length: 2891 (2.8K) [text/csv]\n",
      "Saving to: ‘Geospatial_Coordinates.csv’\n",
      "\n",
      "Geospatial_Coordina 100%[=====================>]   2.82K  --.-KB/s   in 0s     \n",
      "\n",
      "2019-02-25 01:04:08 (115 MB/s) - ‘Geospatial_Coordinates.csv’ saved [2891/2891]\n",
      "\n"
     ]
    }
   ],
   "source": [
    "!wget -O Geospatial_Coordinates.csv https://cocl.us/Geospatial_data\n",
    "\n",
    "geo_df = pd.read_csv(\"Geospatial_Coordinates.csv\", delimiter=\",\")"
   ]
  },
  {
   "cell_type": "markdown",
   "metadata": {},
   "source": [
    "##### Adding latitude and longitude information for all postcodes"
   ]
  },
  {
   "cell_type": "code",
   "execution_count": 33,
   "metadata": {},
   "outputs": [
    {
     "data": {
      "text/html": [
       "<div>\n",
       "<style scoped>\n",
       "    .dataframe tbody tr th:only-of-type {\n",
       "        vertical-align: middle;\n",
       "    }\n",
       "\n",
       "    .dataframe tbody tr th {\n",
       "        vertical-align: top;\n",
       "    }\n",
       "\n",
       "    .dataframe thead th {\n",
       "        text-align: right;\n",
       "    }\n",
       "</style>\n",
       "<table border=\"1\" class=\"dataframe\">\n",
       "  <thead>\n",
       "    <tr style=\"text-align: right;\">\n",
       "      <th></th>\n",
       "      <th>PostalCode</th>\n",
       "      <th>Borough</th>\n",
       "      <th>Neighborhood</th>\n",
       "      <th>Latitude</th>\n",
       "      <th>Longitude</th>\n",
       "    </tr>\n",
       "  </thead>\n",
       "  <tbody>\n",
       "    <tr>\n",
       "      <th>0</th>\n",
       "      <td>M3A</td>\n",
       "      <td>North York</td>\n",
       "      <td>Parkwoods</td>\n",
       "      <td>43.753259</td>\n",
       "      <td>-79.329656</td>\n",
       "    </tr>\n",
       "    <tr>\n",
       "      <th>1</th>\n",
       "      <td>M4A</td>\n",
       "      <td>North York</td>\n",
       "      <td>Victoria Village</td>\n",
       "      <td>43.725882</td>\n",
       "      <td>-79.315572</td>\n",
       "    </tr>\n",
       "    <tr>\n",
       "      <th>2</th>\n",
       "      <td>M5A</td>\n",
       "      <td>Downtown Toronto</td>\n",
       "      <td>Harbourfront, Regent Park</td>\n",
       "      <td>43.654260</td>\n",
       "      <td>-79.360636</td>\n",
       "    </tr>\n",
       "    <tr>\n",
       "      <th>3</th>\n",
       "      <td>M6A</td>\n",
       "      <td>North York</td>\n",
       "      <td>Lawrence Heights, Lawrence Manor</td>\n",
       "      <td>43.718518</td>\n",
       "      <td>-79.464763</td>\n",
       "    </tr>\n",
       "    <tr>\n",
       "      <th>4</th>\n",
       "      <td>M7A</td>\n",
       "      <td>Queen's Park</td>\n",
       "      <td>Not assigned</td>\n",
       "      <td>43.662301</td>\n",
       "      <td>-79.389494</td>\n",
       "    </tr>\n",
       "    <tr>\n",
       "      <th>5</th>\n",
       "      <td>M9A</td>\n",
       "      <td>Etobicoke</td>\n",
       "      <td>Islington Avenue</td>\n",
       "      <td>43.667856</td>\n",
       "      <td>-79.532242</td>\n",
       "    </tr>\n",
       "    <tr>\n",
       "      <th>6</th>\n",
       "      <td>M1B</td>\n",
       "      <td>Scarborough</td>\n",
       "      <td>Rouge, Malvern</td>\n",
       "      <td>43.806686</td>\n",
       "      <td>-79.194353</td>\n",
       "    </tr>\n",
       "    <tr>\n",
       "      <th>7</th>\n",
       "      <td>M3B</td>\n",
       "      <td>North York</td>\n",
       "      <td>Don Mills North</td>\n",
       "      <td>43.745906</td>\n",
       "      <td>-79.352188</td>\n",
       "    </tr>\n",
       "    <tr>\n",
       "      <th>8</th>\n",
       "      <td>M4B</td>\n",
       "      <td>East York</td>\n",
       "      <td>Woodbine Gardens, Parkview Hill</td>\n",
       "      <td>43.706397</td>\n",
       "      <td>-79.309937</td>\n",
       "    </tr>\n",
       "    <tr>\n",
       "      <th>9</th>\n",
       "      <td>M5B</td>\n",
       "      <td>Downtown Toronto</td>\n",
       "      <td>Ryerson, Garden District</td>\n",
       "      <td>43.657162</td>\n",
       "      <td>-79.378937</td>\n",
       "    </tr>\n",
       "    <tr>\n",
       "      <th>10</th>\n",
       "      <td>M6B</td>\n",
       "      <td>North York</td>\n",
       "      <td>Glencairn</td>\n",
       "      <td>43.709577</td>\n",
       "      <td>-79.445073</td>\n",
       "    </tr>\n",
       "    <tr>\n",
       "      <th>11</th>\n",
       "      <td>M9B</td>\n",
       "      <td>Etobicoke</td>\n",
       "      <td>Cloverdale, Islington, Martin Grove, Princess ...</td>\n",
       "      <td>43.650943</td>\n",
       "      <td>-79.554724</td>\n",
       "    </tr>\n",
       "  </tbody>\n",
       "</table>\n",
       "</div>"
      ],
      "text/plain": [
       "   PostalCode           Borough  \\\n",
       "0         M3A        North York   \n",
       "1         M4A        North York   \n",
       "2         M5A  Downtown Toronto   \n",
       "3         M6A        North York   \n",
       "4         M7A      Queen's Park   \n",
       "5         M9A         Etobicoke   \n",
       "6         M1B       Scarborough   \n",
       "7         M3B        North York   \n",
       "8         M4B         East York   \n",
       "9         M5B  Downtown Toronto   \n",
       "10        M6B        North York   \n",
       "11        M9B         Etobicoke   \n",
       "\n",
       "                                         Neighborhood   Latitude  Longitude  \n",
       "0                                           Parkwoods  43.753259 -79.329656  \n",
       "1                                    Victoria Village  43.725882 -79.315572  \n",
       "2                           Harbourfront, Regent Park  43.654260 -79.360636  \n",
       "3                    Lawrence Heights, Lawrence Manor  43.718518 -79.464763  \n",
       "4                                        Not assigned  43.662301 -79.389494  \n",
       "5                                    Islington Avenue  43.667856 -79.532242  \n",
       "6                                      Rouge, Malvern  43.806686 -79.194353  \n",
       "7                                     Don Mills North  43.745906 -79.352188  \n",
       "8                     Woodbine Gardens, Parkview Hill  43.706397 -79.309937  \n",
       "9                            Ryerson, Garden District  43.657162 -79.378937  \n",
       "10                                          Glencairn  43.709577 -79.445073  \n",
       "11  Cloverdale, Islington, Martin Grove, Princess ...  43.650943 -79.554724  "
      ]
     },
     "execution_count": 33,
     "metadata": {},
     "output_type": "execute_result"
    }
   ],
   "source": [
    "# add 2 empty columns\n",
    "df['Latitude'] = np.nan\n",
    "df['Longitude'] = np.nan\n",
    "\n",
    "# find and set latitude and longitude information for each postcode\n",
    "for i in range(df.shape[0]):\n",
    "    postcode = df.iat[i,0]\n",
    "    lat_lng_coords = geo_df.loc[geo_df['Postal Code'] == postcode]\n",
    "    df.iat[i,3] = lat_lng_coords['Latitude'].values[0]\n",
    "    df.iat[i,4] = lat_lng_coords['Longitude'].values[0]\n",
    "    \n",
    "df.head(12) # checking"
   ]
  },
  {
   "cell_type": "code",
   "execution_count": null,
   "metadata": {},
   "outputs": [],
   "source": []
  }
 ],
 "metadata": {
  "kernelspec": {
   "display_name": "Python 3",
   "language": "python",
   "name": "python3"
  },
  "language_info": {
   "codemirror_mode": {
    "name": "ipython",
    "version": 3
   },
   "file_extension": ".py",
   "mimetype": "text/x-python",
   "name": "python",
   "nbconvert_exporter": "python",
   "pygments_lexer": "ipython3",
   "version": "3.6.8"
  }
 },
 "nbformat": 4,
 "nbformat_minor": 2
}
